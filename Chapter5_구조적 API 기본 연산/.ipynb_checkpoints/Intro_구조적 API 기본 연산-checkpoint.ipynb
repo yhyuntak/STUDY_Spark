{
 "cells": [
  {
   "cell_type": "markdown",
   "id": "398875c8",
   "metadata": {},
   "source": [
    "이번 챕터에선 DataFrame의 기본 기능을 중점적으로 다루고 dataframe의 데이터를 다루는 기능을 알아보겠다.\n",
    "\n",
    "이번 챕터에서 알아야할 개념들에 대해 간략히 정리하고 가자.\n",
    "\n",
    "* dataframe은 row 타입의 레코드(like 테이블의 row)와 각 레코드에 수행할 연산 표현식을 나타내는 여러 컬럼(like 스프레드시트의 컬럼)으로 구성됨.\n",
    "* 스키마는 각 컬럼명과 데이터 타입을 정의함.\n",
    "* dataframe의 파티셔닝은 dataframe이 클러스터에서 물리적으로 배치되는 형태를 정의함.\n",
    "* 파티셔닝 스키마는 파티션을 배치하는 방법을 정의함.\n",
    "\n",
    "예시 dataframe을 생성해보자."
   ]
  },
  {
   "cell_type": "code",
   "execution_count": 3,
   "id": "cc353dfc",
   "metadata": {},
   "outputs": [],
   "source": [
    "from pyspark.sql import SparkSession\n",
    "\n",
    "spark = SparkSession.builder\\\n",
    ".appName(\"Section3\").\\\n",
    "config(\"spark.some.config.option\",\"some-value\")\\\n",
    ".getOrCreate()\n",
    "\n",
    "df = spark.read.format(\"json\").load(\"../data/flight-data/json/2015-summary.json\")"
   ]
  },
  {
   "cell_type": "code",
   "execution_count": 4,
   "id": "19e5d639",
   "metadata": {},
   "outputs": [
    {
     "name": "stdout",
     "output_type": "stream",
     "text": [
      "+--------------------+-------------------+-----+\n",
      "|   DEST_COUNTRY_NAME|ORIGIN_COUNTRY_NAME|count|\n",
      "+--------------------+-------------------+-----+\n",
      "|       United States|            Romania|   15|\n",
      "|       United States|            Croatia|    1|\n",
      "|       United States|            Ireland|  344|\n",
      "|               Egypt|      United States|   15|\n",
      "|       United States|              India|   62|\n",
      "|       United States|          Singapore|    1|\n",
      "|       United States|            Grenada|   62|\n",
      "|          Costa Rica|      United States|  588|\n",
      "|             Senegal|      United States|   40|\n",
      "|             Moldova|      United States|    1|\n",
      "|       United States|       Sint Maarten|  325|\n",
      "|       United States|   Marshall Islands|   39|\n",
      "|              Guyana|      United States|   64|\n",
      "|               Malta|      United States|    1|\n",
      "|            Anguilla|      United States|   41|\n",
      "|             Bolivia|      United States|   30|\n",
      "|       United States|           Paraguay|    6|\n",
      "|             Algeria|      United States|    4|\n",
      "|Turks and Caicos ...|      United States|  230|\n",
      "|       United States|          Gibraltar|    1|\n",
      "+--------------------+-------------------+-----+\n",
      "only showing top 20 rows\n",
      "\n"
     ]
    }
   ],
   "source": [
    "df.show()"
   ]
  },
  {
   "cell_type": "markdown",
   "id": "6aa7fbb0",
   "metadata": {},
   "source": [
    "dataframe은 컬럼을 가지며 스키마로 컬럼을 정의한다. 스키마를 한번 살펴보자."
   ]
  },
  {
   "cell_type": "code",
   "execution_count": 5,
   "id": "b1a222bb",
   "metadata": {},
   "outputs": [
    {
     "name": "stdout",
     "output_type": "stream",
     "text": [
      "root\n",
      " |-- DEST_COUNTRY_NAME: string (nullable = true)\n",
      " |-- ORIGIN_COUNTRY_NAME: string (nullable = true)\n",
      " |-- count: long (nullable = true)\n",
      "\n"
     ]
    }
   ],
   "source": [
    "df.printSchema()"
   ]
  },
  {
   "cell_type": "markdown",
   "id": "23166c34",
   "metadata": {},
   "source": [
    "대충 보니까 느낌이 온다. **컬럼명 : 컬럼의 데이터 타입** 형식인 것 같다."
   ]
  }
 ],
 "metadata": {
  "kernelspec": {
   "display_name": "Python 3",
   "language": "python",
   "name": "python3"
  },
  "language_info": {
   "codemirror_mode": {
    "name": "ipython",
    "version": 3
   },
   "file_extension": ".py",
   "mimetype": "text/x-python",
   "name": "python",
   "nbconvert_exporter": "python",
   "pygments_lexer": "ipython3",
   "version": "3.8.10"
  }
 },
 "nbformat": 4,
 "nbformat_minor": 5
}
