{
 "cells": [
  {
   "cell_type": "markdown",
   "id": "7e6fcb6a",
   "metadata": {},
   "source": [
    "# 5. 저수준 API\n",
    "---\n",
    "\n",
    "스파크의 거의 모든 기능은 RDD를 기반으로 만들어졌다. 스파크는 RDD를 통해 자바와 파이썬 객체를 다루는 데 필요한 다양한 기본 기능(저수준 API)을 제공한다. DataFrame 연산도 RDD를 기반으로 만들어졌으며, 편리하고 효율적인 분산 처리를 위해 저수준 명령으로 컴파일된다. \n",
    "\n",
    "드라이버 시스템의 메모리에 저장된 원시 데이터를 병렬처리하는데 RDD를 사용할 수 있다. 간단한 숫자를 이용해 병렬화해 RDD를 생성하고 dataframe화 하자."
   ]
  },
  {
   "cell_type": "code",
   "execution_count": 6,
   "id": "837207f4",
   "metadata": {},
   "outputs": [
    {
     "data": {
      "text/plain": [
       "DataFrame[_1: bigint]"
      ]
     },
     "execution_count": 6,
     "metadata": {},
     "output_type": "execute_result"
    }
   ],
   "source": [
    "import pyspark\n",
    "from pyspark.sql import Row\n",
    "\n",
    "spark = pyspark.sql.SparkSession.builder\\\n",
    ".appName(\"Section5\").\\\n",
    "config(\"spark.some.config.option\",\"some-value\")\\\n",
    ".getOrCreate()\n",
    "\n",
    "spark.sparkContext.parallelize([Row(1), Row(2), Row(3)]).toDF()\n"
   ]
  }
 ],
 "metadata": {
  "kernelspec": {
   "display_name": "Python 3",
   "language": "python",
   "name": "python3"
  },
  "language_info": {
   "codemirror_mode": {
    "name": "ipython",
    "version": 3
   },
   "file_extension": ".py",
   "mimetype": "text/x-python",
   "name": "python",
   "nbconvert_exporter": "python",
   "pygments_lexer": "ipython3",
   "version": "3.8.10"
  }
 },
 "nbformat": 4,
 "nbformat_minor": 5
}
