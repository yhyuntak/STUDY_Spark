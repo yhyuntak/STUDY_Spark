{
 "cells": [
  {
   "cell_type": "markdown",
   "id": "9978cbe6",
   "metadata": {},
   "source": [
    "스파크 의 라이브러리는 다음과 같은 다양한 작업을 지원한다.\n",
    "\n",
    "* 저수준 API : RDD, 분산형 변수\n",
    "* 구조적 API : Dataset, DataFrame, SQL\n",
    "* 구조적 스트리밍\n",
    "* 고급 분석\n",
    "* 라이브러리 및 에코시스템\n",
    "* 그래프 분석\n",
    "* 머신러닝\n",
    "* 스트리밍\n",
    "* 컴퓨팅 및 스토리지 시스템과의 통합\n",
    "\n",
    "<br/><br/>\n",
    "\n",
    "# 1. 운영용 애플리케이션 실행하기\n",
    "---\n",
    "\n",
    "spark-submit 명령을 사용하면 내가 작성한 스파크 애플리케이션 코드를 클러스터에 전송해 클러스터 매니저들로 실행시키는 역할을 한다.\n",
    "명령어에 다양한 옵션을 지정할 수 있다. 파이 값을 특정 자리수까지 출력하는 로컬 머신에서의 간단한 예제를 살펴보자.\n",
    "\n",
    "```python\n",
    "\n",
    "{스파크 폴더}/bin/spark-submit \\\n",
    "        --master local \\ \n",
    "        {스파크 폴더}/examples/src/main/python/pi.py 10\n",
    "\n",
    "```\n",
    "\n",
    "<br/><BR/>\n"
   ]
  }
 ],
 "metadata": {
  "kernelspec": {
   "display_name": "Python 3",
   "language": "python",
   "name": "python3"
  },
  "language_info": {
   "codemirror_mode": {
    "name": "ipython",
    "version": 3
   },
   "file_extension": ".py",
   "mimetype": "text/x-python",
   "name": "python",
   "nbconvert_exporter": "python",
   "pygments_lexer": "ipython3",
   "version": "3.8.10"
  }
 },
 "nbformat": 4,
 "nbformat_minor": 5
}
